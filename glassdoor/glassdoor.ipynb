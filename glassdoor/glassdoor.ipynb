{
 "cells": [
  {
   "cell_type": "code",
   "execution_count": 26,
   "metadata": {},
   "outputs": [],
   "source": [
    "import os\n",
    "import pandas as pd\n",
    "import numpy as np"
   ]
  },
  {
   "cell_type": "code",
   "execution_count": 4,
   "metadata": {},
   "outputs": [],
   "source": [
    "pwd = os.getcwd()\n",
    "\n",
    "filepath = pwd + '/Uncleaned_DS_jobs.csv'\n",
    "\n",
    "raw_data = pd.read_csv(filepath) \n",
    "\n",
    "wip = raw_data.copy()"
   ]
  },
  {
   "cell_type": "code",
   "execution_count": 9,
   "metadata": {},
   "outputs": [],
   "source": [
    "# replace \\n with delimiter\n",
    "wip['Company Name'] = wip['Company Name'].str.replace(\"\\n\", \",\", regex=False)\n",
    "\n",
    "# remove everything after delimiter\n",
    "result = []\n",
    "for item in wip['Company Name']:\n",
    "    parts = item.split(',')\n",
    "    result.append(','.join(parts[:1]))\n",
    "\n",
    "wip['Company Name'] = result"
   ]
  },
  {
   "cell_type": "code",
   "execution_count": 6,
   "metadata": {},
   "outputs": [],
   "source": [
    "# remove $\n",
    "wip['SalaryEstUSD'] = wip['Salary Estimate'].str.replace('$', '', regex=False)\n",
    "\n",
    "# add delimiter\n",
    "# two formats present '''$145K-$225K (Glassdoor est.)''' and '''$145K-$225K(Employer est.)'''\n",
    "wip['SalaryEstUSD'] = wip['SalaryEstUSD'].str.replace('(', ':', regex=False)\n",
    "\n",
    "# remove everything after delimiter\n",
    "result = []\n",
    "for item in wip['SalaryEstUSD']:\n",
    "    parts = item.split(':')\n",
    "    result.append(':'.join(parts[:1]))\n",
    "\n",
    "wip['SalaryEstUSD'] = result"
   ]
  },
  {
   "cell_type": "code",
   "execution_count": 7,
   "metadata": {},
   "outputs": [],
   "source": [
    "# split into new columns\n",
    "wip[['MinSalaryEstUSD', 'MaxSalaryEstUSD']] = wip['SalaryEstUSD'].str.split(\"-\", expand=True)\n",
    "\n",
    "# convert values\n",
    "def convert_values(val):\n",
    "    if 'K' in val:\n",
    "        return float(val.replace('K', '')) * 1000\n",
    "    else:\n",
    "        return float(val)\n",
    "\n",
    "wip['MinSalaryEstUSD'] = wip['MinSalaryEstUSD'].apply(convert_values)\n",
    "wip['MaxSalaryEstUSD'] = wip['MaxSalaryEstUSD'].apply(convert_values)\n",
    "\n",
    "# convert from float to int\n",
    "wip['MinSalaryEstUSD'] = wip['MinSalaryEstUSD'].astype(int)\n",
    "wip['MaxSalaryEstUSD'] = wip['MaxSalaryEstUSD'].astype(int)"
   ]
  },
  {
   "cell_type": "code",
   "execution_count": 56,
   "metadata": {},
   "outputs": [],
   "source": [
    "# new column, only state job is located in\n",
    "wip['Job State'] = wip['Location'].str.split(',').str[-1]\n",
    "\n",
    "# new column, only state headquarters is located in\n",
    "wip['HQ State'] = wip['Headquarters'].str.split(',').str[-1]\n",
    "\n",
    "# new column, if job and HQ are located in the same state\n",
    "wip['Same State'] = wip['Job State'] == wip['HQ State']"
   ]
  },
  {
   "cell_type": "code",
   "execution_count": null,
   "metadata": {},
   "outputs": [],
   "source": [
    "# calculate company age\n",
    "wip['Company Age'] = 2024 - wip['Founded']\n",
    "\n",
    "# return sentinel values\n",
    "wip['Company Age'] = wip['Company Age'].where(wip['Company Age'] != 2025, other='-1')"
   ]
  },
  {
   "cell_type": "code",
   "execution_count": 73,
   "metadata": {},
   "outputs": [],
   "source": [
    "# remove listings without a rating (-1.0)\n",
    "wip = wip[wip['Rating'] != -1]"
   ]
  },
  {
   "cell_type": "code",
   "execution_count": 79,
   "metadata": {},
   "outputs": [],
   "source": [
    "clean = wip[['Job Title', 'Job Description', 'Rating','MinSalaryEstUSD', 'MaxSalaryEstUSD', 'Company Name', 'Location', 'Job State', 'Headquarters', 'Same State', 'Size', 'Founded','Company Age', 'Type of ownership', 'Industry', 'Sector', 'Revenue', 'Competitors']]"
   ]
  },
  {
   "cell_type": "code",
   "execution_count": 80,
   "metadata": {},
   "outputs": [],
   "source": [
    "filepath_export = pwd + '/glassdoor_cleaned.csv'\n",
    "\n",
    "clean.to_csv(filepath_export)"
   ]
  }
 ],
 "metadata": {
  "kernelspec": {
   "display_name": "base",
   "language": "python",
   "name": "python3"
  },
  "language_info": {
   "codemirror_mode": {
    "name": "ipython",
    "version": 3
   },
   "file_extension": ".py",
   "mimetype": "text/x-python",
   "name": "python",
   "nbconvert_exporter": "python",
   "pygments_lexer": "ipython3",
   "version": "3.12.2"
  }
 },
 "nbformat": 4,
 "nbformat_minor": 2
}
