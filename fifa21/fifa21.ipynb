{
 "cells": [
  {
   "cell_type": "code",
   "execution_count": 3,
   "metadata": {},
   "outputs": [],
   "source": [
    "import pandas as pd\n",
    "import os"
   ]
  },
  {
   "cell_type": "code",
   "execution_count": null,
   "metadata": {},
   "outputs": [],
   "source": [
    "pwd = os.getcwd()\n",
    "\n",
    "filepath = pwd + '/fifa21_raw_data.csv'\n",
    "\n",
    "raw_data = pd.read_csv(filepath)"
   ]
  },
  {
   "cell_type": "code",
   "execution_count": 8,
   "metadata": {},
   "outputs": [],
   "source": [
    "# working version of dataframe\n",
    "wip = raw_data.copy()"
   ]
  },
  {
   "cell_type": "code",
   "execution_count": 54,
   "metadata": {},
   "outputs": [],
   "source": [
    "# convert height into inches\n",
    "def parse_ht(height):\n",
    "    # format: 5'9\"\n",
    "    ht = height.split(\"'\")\n",
    "    ft = int(ht[0])\n",
    "    inch = int(ht[1].replace(\"\\\"\",\"\"))\n",
    "    return (12*ft) + inch\n",
    "\n",
    "# new column with height as inches\n",
    "wip['HeightInches'] = wip['Height'].apply(lambda x: parse_ht(x))\n",
    "\n",
    "# new column convert to cm\n",
    "wip['HeightCM'] = wip['HeightInches'].apply(lambda x: round(x * 2.54, 1))"
   ]
  },
  {
   "cell_type": "code",
   "execution_count": 55,
   "metadata": {},
   "outputs": [],
   "source": [
    "# remove lbs from weight string\n",
    "wip['Weight'].str.replace(\"lbs\",\"\", regex=False)\n",
    "\n",
    "# new column with weight as numeric value\n",
    "wip['WeightLbs'] = pd.to_numeric(wip['Weight'].str.replace(\"lbs\",\"\", regex=False))\n",
    "\n",
    "# new column convert to cm\n",
    "wip['WeightKg'] = wip['WeightLbs'].apply(lambda x: round(x / 2.205,1))"
   ]
  },
  {
   "cell_type": "code",
   "execution_count": null,
   "metadata": {},
   "outputs": [],
   "source": [
    "# remove \\n (newline characters)\n",
    "wip['Team & Contract'] = wip['Team & Contract'].str.replace(\"\\n\", \"\", regex=False)\n",
    "\n",
    "wip['Hits'] = wip['Hits'].str.replace(\"\\n\", \"\", regex=False)"
   ]
  },
  {
   "cell_type": "code",
   "execution_count": 12,
   "metadata": {},
   "outputs": [],
   "source": [
    "# remove euro symbol from string\n",
    "wip['Value'] = wip['Value'\"]'.str.replace(\"€\", \"\", regex=False)\n",
    "\n",
    "# replace K with k\n",
    "wip['Value'] = wip['Value'].str.replace(\"K\", \"k\", regex=False)\n",
    "\n",
    "# convert values\n",
    "def convert_values(val):\n",
    "    if \"M\" in val:\n",
    "        return float(val.replace(\"M\", \"\")) * 1000000\n",
    "    if \"k\" in val:\n",
    "        return float(val.replace(\"k\", \"\")) * 1000\n",
    "    else:\n",
    "        return float(val)\n",
    "\n",
    "# new column \n",
    "wip['ValueEuro'] = wip['Value'].apply(convert_values)\n",
    "\n",
    "# convert from float to int\n",
    "wip['ValueEuro'] = wip['ValueEuro'].astype(int)"
   ]
  },
  {
   "cell_type": "code",
   "execution_count": 13,
   "metadata": {},
   "outputs": [],
   "source": [
    "# remove euro symbol from string\n",
    "wip['Wage'] = wip['\"Wage'].str.replace(\"€\", \"\", regex=False)\n",
    "\n",
    "# convert values\n",
    "def convert_values(val):\n",
    "    if \"K\" in val:\n",
    "        return float(val.replace(\"K\", \"\")) * 1000\n",
    "    else:\n",
    "        return float(val)\n",
    "\n",
    "# new column \n",
    "wip['WageEuro'] = wip['Wage'].apply(convert_values)\n",
    "\n",
    "# convert from float to int\n",
    "wip['WageEuro'] = wip['WageEuro'].astype(int)"
   ]
  },
  {
   "cell_type": "code",
   "execution_count": 14,
   "metadata": {},
   "outputs": [],
   "source": [
    "# remove euro symbol from string\n",
    "wip['Release Clause'] = wip['Release Clause'].str.replace(\"€\", \"\", regex=False)\n",
    "\n",
    "# replace K with k\n",
    "wip['Release Clause'] = wip['Release Clause'].str.replace(\"K\", \"k\", regex=False)\n",
    "\n",
    "# convert values\n",
    "def convert_values(val):\n",
    "    if \"M\" in val:\n",
    "        return float(val.replace(\"M\", \"\")) * 1000000\n",
    "    if \"k\" in val:\n",
    "        return float(val.replace(\"k\", \"\")) * 1000\n",
    "    else:\n",
    "        return float(val)\n",
    "\n",
    "# new column \n",
    "wip['ReleaseClauseEuro'] = wip['Release Clause'].apply(convert_values)\n",
    "\n",
    "# convert from float to int\n",
    "wip['ReleaseClauseEuro'] = wip['ReleaseClauseEuro'].astype(int)"
   ]
  },
  {
   "cell_type": "code",
   "execution_count": null,
   "metadata": {},
   "outputs": [],
   "source": [
    "# split column\n",
    "# format TeamNameYYYY ~ YYYY\n",
    "wip[['Team', 'Contract']] = wip['Team & Contract'].str.extract(r'([a-zA-Z ]+)(\\d{4} ~ \\d{4})')"
   ]
  },
  {
   "cell_type": "code",
   "execution_count": 37,
   "metadata": {},
   "outputs": [],
   "source": [
    "# re-format date\n",
    "# date format \"%b %-d, %Y\" to \"%Y-%m-%d\"\n",
    "wip['Joined'] = pd.to_datetime(wip['Joined']).dt.strftime('%Y-%m-%d')\n",
    "\n",
    "# split date\n",
    "wip[['JoinedYear', 'JoinedMonth', 'JoinedDay']] = wip['Joined'].str.split(\"-\", expand=True)"
   ]
  },
  {
   "cell_type": "code",
   "execution_count": 42,
   "metadata": {},
   "outputs": [],
   "source": [
    "# remove ★ (star character)\n",
    "wip['IR'] = wip['IR'].str.replace(\"★\", \"\", regex=False)\n",
    "\n",
    "wip['W/F'] = wip['W/F'].str.replace(\"★\", \"\", regex=False)\n",
    "\n",
    "wip['SM'] = wip['SM'].str.replace(\"★\", \"\", regex=False)"
   ]
  },
  {
   "cell_type": "code",
   "execution_count": 57,
   "metadata": {},
   "outputs": [],
   "source": [
    "clean = wip[['ID','LongName', 'Name', 'Age', 'Nationality', 'Team', 'Contract', 'Joined', 'JoinedYear','JoinedMonth', 'JoinedDay', 'Positions', 'photoUrl', 'playerUrl', '↓OVA', 'POT', 'HeightInches', 'HeightCM', 'WeightLbs', 'WeightKg', 'foot', 'BOV', 'BP', 'Growth', 'Loan Date End', 'ValueEuro', 'WageEuro', 'ReleaseClauseEuro', 'Attacking', 'Crossing', 'Finishing', 'Heading Accuracy', 'Short Passing', 'Volleys', 'Skill', 'Dribbling', 'Curve', 'FK Accuracy', 'Long Passing', 'Ball Control', 'Movement', 'Acceleration', 'Sprint Speed', 'Agility', 'Reactions', 'Balance', 'Power', 'Shot Power', 'Jumping', 'Stamina', 'Strength', 'Long Shots', 'Mentality', 'Aggression', 'Interceptions', 'Positioning', 'Vision', 'Penalties', 'Composure', 'Defending', 'Marking', 'Standing Tackle', 'Sliding Tackle', 'Goalkeeping', 'GK Diving', 'GK Handling', 'GK Kicking', 'GK Positioning', 'GK Reflexes', 'Total Stats', 'Base Stats', 'W/F', 'SM', 'A/W', 'D/W', 'IR', 'PAC', 'SHO', 'PAS', 'DRI', 'DEF', 'PHY', 'Hits']]"
   ]
  },
  {
   "cell_type": "code",
   "execution_count": 58,
   "metadata": {},
   "outputs": [],
   "source": [
    "filepath_export = pwd + '/fifa21_cleaned.csv'\n",
    "\n",
    "clean.to_csv(filepath_export)"
   ]
  }
 ],
 "metadata": {
  "kernelspec": {
   "display_name": "base",
   "language": "python",
   "name": "python3"
  },
  "language_info": {
   "codemirror_mode": {
    "name": "ipython",
    "version": 3
   },
   "file_extension": ".py",
   "mimetype": "text/x-python",
   "name": "python",
   "nbconvert_exporter": "python",
   "pygments_lexer": "ipython3",
   "version": "3.12.2"
  }
 },
 "nbformat": 4,
 "nbformat_minor": 2
}
