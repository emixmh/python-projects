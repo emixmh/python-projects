{
 "cells": [
  {
   "cell_type": "code",
   "execution_count": 1,
   "metadata": {},
   "outputs": [],
   "source": [
    "import pandas as pd\n",
    "import os\n",
    "import numpy as np"
   ]
  },
  {
   "cell_type": "code",
   "execution_count": 5,
   "metadata": {},
   "outputs": [
    {
     "name": "stderr",
     "output_type": "stream",
     "text": [
      "/var/folders/j8/bvrywsx96hs740p4v7v0hqvh0000gn/T/ipykernel_33950/1700465862.py:5: DtypeWarning: Columns (76) have mixed types. Specify dtype option on import or set low_memory=False.\n",
      "  fifa = pd.read_csv(filepath)\n"
     ]
    }
   ],
   "source": [
    "pwd = os.getcwd()\n",
    "\n",
    "filepath = pwd + \"/fifa21_raw_data.csv\"\n",
    "\n",
    "fifa = pd.read_csv(filepath)"
   ]
  },
  {
   "cell_type": "code",
   "execution_count": null,
   "metadata": {},
   "outputs": [],
   "source": [
    "# convert height into inches\n",
    "def parse_ht(height):\n",
    "    # format: 5'9\"\n",
    "    ht = height.split(\"'\")\n",
    "    ft = int(ht[0])\n",
    "    inch = int(ht[1].replace(\"\\\"\",\"\"))\n",
    "    return (12*ft) + inch\n",
    "\n",
    "# new column with height as inches\n",
    "fifa[\"HeightInches\"] = fifa[\"Height\"].apply(lambda x: parse_ht(x))"
   ]
  },
  {
   "cell_type": "code",
   "execution_count": null,
   "metadata": {},
   "outputs": [],
   "source": [
    "# remove lbs from weight string\n",
    "fifa[\"Weight\"].str.replace(\"lbs\",\"\", regex=False)\n",
    "\n",
    "# new column with weight as numeric value\n",
    "fifa[\"WeightLbs\"] = pd.to_numeric(fifa[\"Weight\"].str.replace(\"lbs\",\"\", regex=False))"
   ]
  },
  {
   "cell_type": "code",
   "execution_count": null,
   "metadata": {},
   "outputs": [],
   "source": [
    "# remove \\n (newline characters)\n",
    "fifa[\"Team & Contract\"] = fifa[\"Team & Contract\"].str.replace(\"\\n\", \"\", regex=False)"
   ]
  },
  {
   "cell_type": "code",
   "execution_count": null,
   "metadata": {},
   "outputs": [],
   "source": [
    "# remove euro symbol from string\n",
    "fifa[\"Value\"] = fifa[\"Value\"].str.replace(\"€\", \"\", regex=False)\n",
    "\n",
    "# replace K with k\n",
    "fifa[\"Value\"] = fifa[\"Value\"].str.replace(\"K\", \"k\", regex=False)\n",
    "\n",
    "# convert values\n",
    "def convert_values(val):\n",
    "    if \"M\" in val:\n",
    "        return float(val.replace(\"M\", \"\")) * 1000000\n",
    "    if \"k\" in val:\n",
    "        return float(val.replace(\"k\", \"\")) * 1000\n",
    "    else:\n",
    "        return float(val)\n",
    "\n",
    "# new column \n",
    "fifa[\"ValueEuro\"] = fifa[\"Value\"].apply(convert_values)\n",
    "\n",
    "# convert from float to int\n",
    "fifa[\"ValueEuro\"] = fifa[\"ValueEuro\"].astype(int)"
   ]
  },
  {
   "cell_type": "code",
   "execution_count": 62,
   "metadata": {},
   "outputs": [],
   "source": [
    "# remove euro symbol from string\n",
    "fifa[\"Wage\"] = fifa[\"Wage\"].str.replace(\"€\", \"\", regex=False)\n",
    "\n",
    "# convert values\n",
    "def convert_values(val):\n",
    "    if \"K\" in val:\n",
    "        return float(val.replace(\"K\", \"\")) * 1000\n",
    "    else:\n",
    "        return float(val)\n",
    "\n",
    "# new column \n",
    "fifa[\"WageEuro\"] = fifa[\"Wage\"].apply(convert_values)\n",
    "\n",
    "# convert from float to int\n",
    "fifa[\"WageEuro\"] = fifa[\"WageEuro\"].astype(int)"
   ]
  },
  {
   "cell_type": "code",
   "execution_count": null,
   "metadata": {},
   "outputs": [],
   "source": [
    "# remove euro symbol from string\n",
    "fifa[\"Release Clause\"] = fifa[\"Release Clause\"].str.replace(\"€\", \"\", regex=False)\n",
    "\n",
    "# replace K with k\n",
    "fifa[\"Release Clause\"] = fifa[\"Release Clause\"].str.replace(\"K\", \"k\", regex=False)\n",
    "\n",
    "# convert values\n",
    "def convert_values(val):\n",
    "    if \"M\" in val:\n",
    "        return float(val.replace(\"M\", \"\")) * 1000000\n",
    "    if \"k\" in val:\n",
    "        return float(val.replace(\"k\", \"\")) * 1000\n",
    "    else:\n",
    "        return float(val)\n",
    "\n",
    "# new column \n",
    "fifa[\"ReleaseClauseEuro\"] = fifa[\"Release Clause\"].apply(convert_values)\n",
    "\n",
    "# convert from float to int\n",
    "fifa[\"ReleaseClauseEuro\"] = fifa[\"ReleaseClauseEuro\"].astype(int)"
   ]
  }
 ],
 "metadata": {
  "kernelspec": {
   "display_name": "base",
   "language": "python",
   "name": "python3"
  },
  "language_info": {
   "codemirror_mode": {
    "name": "ipython",
    "version": 3
   },
   "file_extension": ".py",
   "mimetype": "text/x-python",
   "name": "python",
   "nbconvert_exporter": "python",
   "pygments_lexer": "ipython3",
   "version": "3.12.2"
  }
 },
 "nbformat": 4,
 "nbformat_minor": 2
}
