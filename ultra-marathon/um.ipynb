{
 "cells": [
  {
   "cell_type": "code",
   "execution_count": null,
   "metadata": {},
   "outputs": [],
   "source": [
    "# import libraries\n",
    "import os\n",
    "import pandas as pd\n",
    "import seaborn as sns"
   ]
  },
  {
   "cell_type": "code",
   "execution_count": null,
   "metadata": {},
   "outputs": [],
   "source": [
    "pwd = os.getcwd()\n",
    "\n",
    "filepath = pwd + '/two_cent_of_um_races.csv'\n",
    "\n",
    "# import data\n",
    "df = pd.read_csv(filepath)"
   ]
  },
  {
   "cell_type": "markdown",
   "metadata": {},
   "source": [
    "# Clean Data\n",
    "\n",
    "## Filter Data\n",
    "only want: USA, 2020, 50mi or 50km"
   ]
  },
  {
   "cell_type": "code",
   "execution_count": null,
   "metadata": {},
   "outputs": [],
   "source": [
    "# show 50km and 50mi races\n",
    "df[df['Event distance/length'] == '50mi']\n",
    "df[df['Event distance/length'] == '50km']"
   ]
  },
  {
   "cell_type": "code",
   "execution_count": null,
   "metadata": {},
   "outputs": [],
   "source": [
    "# combine using isin\n",
    "df[df['Event distance/length'].isin(['50mi','50km'])]"
   ]
  },
  {
   "cell_type": "code",
   "execution_count": null,
   "metadata": {},
   "outputs": [],
   "source": [
    "# show 2020 races\n",
    "df[df['Year of event'] == 2020]"
   ]
  },
  {
   "cell_type": "code",
   "execution_count": null,
   "metadata": {},
   "outputs": [],
   "source": [
    "# show USA races\n",
    "df[df['Event name'].str.split('(').str.get(1).str.split(')').str.get(0) == 'USA']"
   ]
  },
  {
   "cell_type": "code",
   "execution_count": null,
   "metadata": {},
   "outputs": [],
   "source": [
    "# combine all filters\n",
    "df[(df['Event distance/length'].isin(['50mi','50km'])) & (df['Year of event'] == 2020) & (df['Event name'].str.split('(').str.get(1).str.split(')').str.get(0) == 'USA')]"
   ]
  },
  {
   "cell_type": "code",
   "execution_count": null,
   "metadata": {},
   "outputs": [],
   "source": [
    "wip = df[(df['Event distance/length'].isin(['50mi','50km'])) & (df['Year of event'] == 2020) & (df['Event name'].str.split('(').str.get(1).str.split(')').str.get(0) == 'USA')].copy()"
   ]
  },
  {
   "cell_type": "code",
   "execution_count": 26,
   "metadata": {},
   "outputs": [
    {
     "data": {
      "text/plain": [
       "(26090, 13)"
      ]
     },
     "execution_count": 26,
     "metadata": {},
     "output_type": "execute_result"
    }
   ],
   "source": [
    "wip.shape"
   ]
  },
  {
   "cell_type": "code",
   "execution_count": 28,
   "metadata": {},
   "outputs": [],
   "source": [
    "# remove (USA) from event name\n",
    "wip['Event name'] = wip['Event name'].str.split('(').str.get(0)"
   ]
  },
  {
   "cell_type": "code",
   "execution_count": 30,
   "metadata": {},
   "outputs": [],
   "source": [
    "# clean athleate age\n",
    "wip['AthleteAge'] = 2020 - wip['Athlete year of birth']"
   ]
  },
  {
   "cell_type": "code",
   "execution_count": 32,
   "metadata": {},
   "outputs": [],
   "source": [
    "# remove h from athlete performance\n",
    "wip['Athlete performance'] = wip['Athlete performance'].str.split(' ').str.get(0)"
   ]
  },
  {
   "cell_type": "code",
   "execution_count": 41,
   "metadata": {},
   "outputs": [],
   "source": [
    "# drop columns: Athlete Country, Athlete Country, Athlete Year of Birth, Athlete Age Category\n",
    "wip = wip.drop(columns=['Athlete club', 'Athlete country', 'Athlete year of birth', 'Athlete age category'])"
   ]
  },
  {
   "cell_type": "markdown",
   "metadata": {},
   "source": [
    "## Null Values and Duplicates"
   ]
  },
  {
   "cell_type": "code",
   "execution_count": 44,
   "metadata": {},
   "outputs": [
    {
     "data": {
      "text/plain": [
       "Year of event                  0\n",
       "Event dates                    0\n",
       "Event name                     0\n",
       "Event distance/length          0\n",
       "Event number of finishers      0\n",
       "Athlete performance            0\n",
       "Athlete gender                 0\n",
       "Athlete average speed          0\n",
       "Athlete ID                     0\n",
       "AthleteAge                   233\n",
       "dtype: int64"
      ]
     },
     "execution_count": 44,
     "metadata": {},
     "output_type": "execute_result"
    }
   ],
   "source": [
    "# find nulls\n",
    "wip.isna().sum()"
   ]
  },
  {
   "cell_type": "code",
   "execution_count": 46,
   "metadata": {},
   "outputs": [],
   "source": [
    "# drop null values\n",
    "wip = wip.dropna()"
   ]
  },
  {
   "cell_type": "code",
   "execution_count": 47,
   "metadata": {},
   "outputs": [
    {
     "data": {
      "text/html": [
       "<div>\n",
       "<style scoped>\n",
       "    .dataframe tbody tr th:only-of-type {\n",
       "        vertical-align: middle;\n",
       "    }\n",
       "\n",
       "    .dataframe tbody tr th {\n",
       "        vertical-align: top;\n",
       "    }\n",
       "\n",
       "    .dataframe thead th {\n",
       "        text-align: right;\n",
       "    }\n",
       "</style>\n",
       "<table border=\"1\" class=\"dataframe\">\n",
       "  <thead>\n",
       "    <tr style=\"text-align: right;\">\n",
       "      <th></th>\n",
       "      <th>Year of event</th>\n",
       "      <th>Event dates</th>\n",
       "      <th>Event name</th>\n",
       "      <th>Event distance/length</th>\n",
       "      <th>Event number of finishers</th>\n",
       "      <th>Athlete performance</th>\n",
       "      <th>Athlete gender</th>\n",
       "      <th>Athlete average speed</th>\n",
       "      <th>Athlete ID</th>\n",
       "      <th>AthleteAge</th>\n",
       "    </tr>\n",
       "  </thead>\n",
       "  <tbody>\n",
       "  </tbody>\n",
       "</table>\n",
       "</div>"
      ],
      "text/plain": [
       "Empty DataFrame\n",
       "Columns: [Year of event, Event dates, Event name, Event distance/length, Event number of finishers, Athlete performance, Athlete gender, Athlete average speed, Athlete ID, AthleteAge]\n",
       "Index: []"
      ]
     },
     "execution_count": 47,
     "metadata": {},
     "output_type": "execute_result"
    }
   ],
   "source": [
    "# check for duplicates\n",
    "wip[wip.duplicated() == True]"
   ]
  },
  {
   "cell_type": "code",
   "execution_count": 42,
   "metadata": {},
   "outputs": [
    {
     "data": {
      "text/html": [
       "<div>\n",
       "<style scoped>\n",
       "    .dataframe tbody tr th:only-of-type {\n",
       "        vertical-align: middle;\n",
       "    }\n",
       "\n",
       "    .dataframe tbody tr th {\n",
       "        vertical-align: top;\n",
       "    }\n",
       "\n",
       "    .dataframe thead th {\n",
       "        text-align: right;\n",
       "    }\n",
       "</style>\n",
       "<table border=\"1\" class=\"dataframe\">\n",
       "  <thead>\n",
       "    <tr style=\"text-align: right;\">\n",
       "      <th></th>\n",
       "      <th>Year of event</th>\n",
       "      <th>Event dates</th>\n",
       "      <th>Event name</th>\n",
       "      <th>Event distance/length</th>\n",
       "      <th>Event number of finishers</th>\n",
       "      <th>Athlete performance</th>\n",
       "      <th>Athlete gender</th>\n",
       "      <th>Athlete average speed</th>\n",
       "      <th>Athlete ID</th>\n",
       "      <th>AthleteAge</th>\n",
       "    </tr>\n",
       "  </thead>\n",
       "  <tbody>\n",
       "    <tr>\n",
       "      <th>2539945</th>\n",
       "      <td>2020</td>\n",
       "      <td>02.02.2020</td>\n",
       "      <td>West Seattle Beach Run - Winter Edition</td>\n",
       "      <td>50km</td>\n",
       "      <td>20</td>\n",
       "      <td>3:17:55</td>\n",
       "      <td>M</td>\n",
       "      <td>15.158</td>\n",
       "      <td>71287</td>\n",
       "      <td>29.0</td>\n",
       "    </tr>\n",
       "    <tr>\n",
       "      <th>2539946</th>\n",
       "      <td>2020</td>\n",
       "      <td>02.02.2020</td>\n",
       "      <td>West Seattle Beach Run - Winter Edition</td>\n",
       "      <td>50km</td>\n",
       "      <td>20</td>\n",
       "      <td>4:02:32</td>\n",
       "      <td>M</td>\n",
       "      <td>12.369</td>\n",
       "      <td>629508</td>\n",
       "      <td>39.0</td>\n",
       "    </tr>\n",
       "    <tr>\n",
       "      <th>2539947</th>\n",
       "      <td>2020</td>\n",
       "      <td>02.02.2020</td>\n",
       "      <td>West Seattle Beach Run - Winter Edition</td>\n",
       "      <td>50km</td>\n",
       "      <td>20</td>\n",
       "      <td>4:07:57</td>\n",
       "      <td>M</td>\n",
       "      <td>12.099</td>\n",
       "      <td>64838</td>\n",
       "      <td>21.0</td>\n",
       "    </tr>\n",
       "    <tr>\n",
       "      <th>2539948</th>\n",
       "      <td>2020</td>\n",
       "      <td>02.02.2020</td>\n",
       "      <td>West Seattle Beach Run - Winter Edition</td>\n",
       "      <td>50km</td>\n",
       "      <td>20</td>\n",
       "      <td>4:22:02</td>\n",
       "      <td>M</td>\n",
       "      <td>11.449</td>\n",
       "      <td>704450</td>\n",
       "      <td>37.0</td>\n",
       "    </tr>\n",
       "    <tr>\n",
       "      <th>2539949</th>\n",
       "      <td>2020</td>\n",
       "      <td>02.02.2020</td>\n",
       "      <td>West Seattle Beach Run - Winter Edition</td>\n",
       "      <td>50km</td>\n",
       "      <td>20</td>\n",
       "      <td>4:27:34</td>\n",
       "      <td>M</td>\n",
       "      <td>11.212</td>\n",
       "      <td>810281</td>\n",
       "      <td>43.0</td>\n",
       "    </tr>\n",
       "  </tbody>\n",
       "</table>\n",
       "</div>"
      ],
      "text/plain": [
       "         Year of event Event dates                                Event name  \\\n",
       "2539945           2020  02.02.2020  West Seattle Beach Run - Winter Edition    \n",
       "2539946           2020  02.02.2020  West Seattle Beach Run - Winter Edition    \n",
       "2539947           2020  02.02.2020  West Seattle Beach Run - Winter Edition    \n",
       "2539948           2020  02.02.2020  West Seattle Beach Run - Winter Edition    \n",
       "2539949           2020  02.02.2020  West Seattle Beach Run - Winter Edition    \n",
       "\n",
       "        Event distance/length  Event number of finishers Athlete performance  \\\n",
       "2539945                  50km                         20             3:17:55   \n",
       "2539946                  50km                         20             4:02:32   \n",
       "2539947                  50km                         20             4:07:57   \n",
       "2539948                  50km                         20             4:22:02   \n",
       "2539949                  50km                         20             4:27:34   \n",
       "\n",
       "        Athlete gender Athlete average speed  Athlete ID  AthleteAge  \n",
       "2539945              M                15.158       71287        29.0  \n",
       "2539946              M                12.369      629508        39.0  \n",
       "2539947              M                12.099       64838        21.0  \n",
       "2539948              M                11.449      704450        37.0  \n",
       "2539949              M                11.212      810281        43.0  "
      ]
     },
     "execution_count": 42,
     "metadata": {},
     "output_type": "execute_result"
    }
   ],
   "source": [
    "wip.head(5)"
   ]
  },
  {
   "cell_type": "code",
   "execution_count": null,
   "metadata": {},
   "outputs": [],
   "source": []
  }
 ],
 "metadata": {
  "kernelspec": {
   "display_name": "base",
   "language": "python",
   "name": "python3"
  },
  "language_info": {
   "codemirror_mode": {
    "name": "ipython",
    "version": 3
   },
   "file_extension": ".py",
   "mimetype": "text/x-python",
   "name": "python",
   "nbconvert_exporter": "python",
   "pygments_lexer": "ipython3",
   "version": "3.12.2"
  }
 },
 "nbformat": 4,
 "nbformat_minor": 2
}
